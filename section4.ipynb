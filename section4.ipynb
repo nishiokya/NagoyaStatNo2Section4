{
 "cells": [
  {
   "cell_type": "markdown",
   "metadata": {
    "slideshow": {
     "slide_type": "slide"
    }
   },
   "source": [
    "# データ解析のための統計モデリング入門\n",
    "## データ解析のための統計モデリング入門　第４章\n",
    "### GLMのモデル選択\n",
    "### -AICとモデルの予測の良さ-\n",
    "## @nishiokya\n",
    "## 2016.10.01\n",
    "## NagoyaStat #2"
   ]
  },
  {
   "cell_type": "markdown",
   "metadata": {
    "slideshow": {
     "slide_type": "slide"
    }
   },
   "source": [
    "# はじめに\n",
    "- モデルを選択する方法\n",
    "- AICを使い方を理解する\n",
    "- AICが正しい理由\n",
    "- AICの展開はしない"
   ]
  },
  {
   "cell_type": "markdown",
   "metadata": {
    "slideshow": {
     "slide_type": "subslide"
    }
   },
   "source": [
    "# 自己紹介"
   ]
  },
  {
   "cell_type": "markdown",
   "metadata": {
    "slideshow": {
     "slide_type": "slide"
    }
   },
   "source": [
    "# 目次\n",
    "## 4. GLMのモデル選択 −AICとモデルの予測の良さ-\n",
    "### 4.1 データはひとつ，モデルはたくさん\n",
    "### 4.2 統計モデルの当てはまりの悪さ：逸脱度\n",
    "### 4.3 モデル選択基準AIC \n",
    "### 4.4 AICを説明するためのまた別の例題 \n",
    "### 4.5 なぜAICでモデル選択をしてよいのか\n",
    "### 4.6 この章のまとめと参考文献"
   ]
  },
  {
   "cell_type": "markdown",
   "metadata": {
    "slideshow": {
     "slide_type": "subslide"
    }
   },
   "source": [
    "# 振り返り\n",
    "## ４章の立ち位置\n",
    "![第2章以降の説明の流れ ](http://id.fnshr.info/wp-content/uploads/sites/2/2012/08/kubo_nagare.png \"第2章以降の説明の流れ \")\n",
    "まえがき P.vii\n",
    "\n"
   ]
  },
  {
   "cell_type": "markdown",
   "metadata": {
    "slideshow": {
     "slide_type": "subslide"
    }
   },
   "source": [
    "# 用語\n",
    "\n",
    "この章で出てくる用語\n",
    "- AIC\n",
    "- 逸脱度\n",
    "    - Null逸脱度\n",
    "    - 最大の逸脱度\n",
    "    - 最小の逸脱度\n",
    "    - 残差逸脱度\n",
    "- 平均対数尤度"
   ]
  },
  {
   "cell_type": "markdown",
   "metadata": {
    "slideshow": {
     "slide_type": "subslide"
    }
   },
   "source": [
    "# ４章のサマリー\n",
    "- 4-2まで 当てはまりの良さと予測のよさ\n",
    "    - 三章で登場したGLM4種を比較し、モデルの複雑度と当てはまり改善の関係を理解する\n",
    "- 4-3 AICの使い方\n",
    "    - GLM4種をAICを通して比較する\n",
    "- 4-4以降　AICの詳細\n",
    "    - 数値実験"
   ]
  },
  {
   "cell_type": "markdown",
   "metadata": {
    "slideshow": {
     "slide_type": "slide"
    }
   },
   "source": [
    "# 良いモデルとは\n",
    "## *観測データ*にあてはまりが良いものが「良い」統計モデルか？\n",
    "    * **NO!**\n",
    "\n",
    "- 母集団を「良い推測をするものが良いモデル」または、未知のデータを「良い予測をするものが良いモデル」という考えに基づいて考える\n",
    "\n",
    "以降「良い予測をするものが良いモデル」という考えで、統計モデルを選択する方法をまなぶ\n"
   ]
  },
  {
   "cell_type": "markdown",
   "metadata": {
    "slideshow": {
     "slide_type": "subslide"
    }
   },
   "source": [
    "# モデル選択\n",
    "## 複数の統計モデルの中からなんらかの意味で「良い」モデルを選ぶこと\n",
    "- 良いモデルの判定方法は複数ある\n",
    "    - 良い当てはまりをするモデルの選択　→　最大尤度（最大対数尤度),p値（？）\n",
    "    - 良い予測をするモデルの選択基準　→　AIC"
   ]
  },
  {
   "cell_type": "markdown",
   "metadata": {
    "slideshow": {
     "slide_type": "subslide"
    }
   },
   "source": [
    "# 良い予測とは\n"
   ]
  },
  {
   "cell_type": "markdown",
   "metadata": {
    "slideshow": {
     "slide_type": "slide"
    }
   },
   "source": [
    "# 4-1 データはひとつ，モデルはたくさん\n",
    "## 3章で作成した統計モデルのうち一番「良い」モデルはどれ？\n",
    "#### 3章の統計モデル\n",
    "モデル名  |  概要 | Rの構文|\n",
    "---- | ---- | ----\n",
    " xモデル  |  体サイズが影響するモデル | glm(y~x,data = d,family = poisson)\n",
    " fモデル  |  施肥効果が影響するモデル | glm(y~f,data = d,family = poisson)\n",
    " x+fモデル  |  体サイズと施肥効果が影響するモデル | glm(y~x+f,data=d,family=poisson)\n",
    "\n",
    "#### 4章の統計モデル\n",
    "モデル名  |  概要 | Rの構文|\n",
    "---- | ----| ----\n",
    "  Nullモデル*1  |  体サイズの効果も施肥効果も影響しないモデル&br;一定モデルともいう| glm(y~1,data=d,family=poisson)\n",
    " フルモデル  |  後述 |\n",
    " \n",
    "*1 4.1章ではNullモデルと説明をしているため、Nullモデルで統一"
   ]
  },
  {
   "cell_type": "markdown",
   "metadata": {
    "slideshow": {
     "slide_type": "subslide"
    }
   },
   "source": [
    "# 統計モデルを最大対数尤度で評価\n",
    "## xモデルの最大対数尤度の算出方法\n",
    "```logLik(glm(y~x,data = d,family = poisson))```\n",
    "\n",
    "#### モデルごとの最大対数尤度 \n",
    "モデル名  |  最大対数尤度 |自由度(df)\n",
    "---- | ---- | ----\n",
    " xモデル  |  -235.3863| 2\n",
    " fモデル  |  -237.6273 | 2\n",
    " x+fモデル  | -235.2937 | 3\n",
    " NULLモデル  | -237.6432  | 1\n",
    " フルモデル  | -192.2  | 1\n",
    "### x+fモデルの最大対数尤度が高い、１自由度(df)が一番高い。\n",
    "### この結果をどう評価するのか？"
   ]
  },
  {
   "cell_type": "markdown",
   "metadata": {
    "slideshow": {
     "slide_type": "slide"
    }
   },
   "source": [
    "# 4.2 統計モデルの当てはまりの悪さ：逸脱度\n",
    "## 逸脱度(deviance)とは、最大対数尤度を変形した統計量\n",
    "\n",
    "``` D =  -2 logL* ```\n",
    "\n",
    "### 対数尤度と逸脱度の関係\n",
    "対数尤度(log likelihood)  |  逸脱度(deviance)\n",
    "---- | ----\n",
    "当てはまりの良さ |  当てはまりの悪さ\n"
   ]
  },
  {
   "cell_type": "markdown",
   "metadata": {
    "slideshow": {
     "slide_type": "subslide"
    }
   },
   "source": [
    "# さまざまな逸脱度\n",
    "\n",
    "### さまざまな逸脱度の定義\n",
    "名前  |  定義 | glmのレスポンス\n",
    "---- | ---- | ----\n",
    " 逸脱度 |  -2logL* |\n",
    " 最小の逸脱度  |  フルモデルをあてはめたときの逸脱度 |\n",
    " 最大の逸脱度  |  Nullモデル(一定モデル)を当てはめたときの逸脱度 |\n",
    " Null逸脱度  |  最大の逸脱度 - 最小逸脱度  | Null Deviance\n",
    " 残差逸脱度  |  逸脱度 - 最小逸脱度 |  Residual Deviance\n",
    " logL*は最大対数尤度\n",
    " "
   ]
  },
  {
   "cell_type": "markdown",
   "metadata": {
    "slideshow": {
     "slide_type": "subslide"
    }
   },
   "source": [
    "# 統計モデルごとの逸脱度\n",
    "#### モデルごとの逸脱度\n",
    "モデル名  |  最大対数尤度 |自由度(df)| 逸脱度 | コメント\n",
    "---- | ---- | ---- | ----| ----\n",
    " xモデル  |  -235.3863| 2 |  470.7725 | \n",
    " fモデル  |  -237.6273 | 2 | 475.2546 |\n",
    " x+fモデル  | -235.2937 | 3 | 470.5874 |\n",
    " NULLモデル  | -237.6432  | 1 | 475.2864 | 最大の逸脱度 \n",
    " フルモデル  | -192.2  | 1 | 384.4 |  最小の逸脱度 "
   ]
  },
  {
   "cell_type": "markdown",
   "metadata": {
    "slideshow": {
     "slide_type": "subslide"
    }
   },
   "source": [
    "## 最小逸脱度とは\n",
    "### フルモデルをあてはめたときの逸脱度\n",
    "#### フルモデルとは"
   ]
  },
  {
   "cell_type": "markdown",
   "metadata": {
    "slideshow": {
     "slide_type": "subslide"
    }
   },
   "source": [
    "# 最大逸脱度\n",
    "\n"
   ]
  },
  {
   "cell_type": "markdown",
   "metadata": {
    "slideshow": {
     "slide_type": "subslide"
    }
   },
   "source": [
    "# xモデルの残差逸脱度\n",
    "### xモデルの逸脱度一覧\n",
    "名前  |  定義 | 式\n",
    "---- | ---- | ----\n",
    " 最大対数尤度 | -235.3863 |  logLik(glm(y~x,data = d,family = poisson))\n",
    " 逸脱度 | 470.7725  | -2 * logLik(glm(y~x,data = d,family = poisson))\n",
    " 残差逸脱度  | 84.99  |  470.7725 - 最小逸脱度\n",
    "\n",
    "```\n",
    "> glm(y~x,data=d,family=poisson)\n",
    "Call:  glm(formula = y ~ x, family = poisson, data = d)\n",
    "Coefficients:\n",
    "(Intercept)            x  \n",
    "    1.29172      0.07566  \n",
    "Degrees of Freedom: 99 Total (i.e. Null);  98 Residual\n",
    "Null Deviance:\t    89.51 \n",
    "Residual Deviance: 84.99 \tAIC: 474.8\n",
    "```"
   ]
  },
  {
   "cell_type": "markdown",
   "metadata": {
    "collapsed": true,
    "slideshow": {
     "slide_type": "subslide"
    }
   },
   "source": [
    "# 統計モデルごとの残差逸脱度\n",
    "#### モデルごとの逸脱度\n",
    "モデル名  |  最大対数尤度 | K / 自由度(df)| 逸脱度 | 残差逸脱度\n",
    "---- | ---- | ---- | ----| ----| ----\n",
    " NULLモデル(一定モデル）  | -237.6432  | 1 | 475.2864 | 89.5\n",
    " xモデル  |  -235.3863| 2 |  470.7725 |  89.51 \n",
    " fモデル  |  -237.6273 | 2 | 475.2546 | 85.0\n",
    " x+fモデル  | -235.2937 | 3 | 470.5874 | 84.8\n",
    "  フルモデル  | -192.2  | 100 | 384.4 |  0\n",
    "  \n",
    "### パラメータ数を増やせば残差逸脱度はさがる\n",
    "#### パラメータ数をふやすと　*当てはまりが良くなる*"
   ]
  },
  {
   "cell_type": "markdown",
   "metadata": {
    "slideshow": {
     "slide_type": "slide"
    }
   },
   "source": [
    "# 4.3 モデル選択基準 AIC\n",
    "## パラメータが多い方が、*当てはまりは良くなる*\n",
    "### パラメータが多い方が、たまたま得られたデータが当てはまりが良くなる\n",
    "## パラメータが多い方が、かならず*予測は良くなる*わけではない"
   ]
  },
  {
   "cell_type": "markdown",
   "metadata": {
    "slideshow": {
     "slide_type": "subslide"
    }
   },
   "source": [
    "# モデル選択\n",
    "## 複数の統計モデルの中からなんらかの意味で「良い」モデルを選ぶこと\n",
    "## 「良い」モデルを選ぶ基準をモデル選択基準という\n",
    "### AIC(Akaike's infomation crierion)は予測の良さを重視\n"
   ]
  },
  {
   "cell_type": "markdown",
   "metadata": {
    "slideshow": {
     "slide_type": "subslide"
    }
   },
   "source": [
    "# AICの計算式\n",
    "## \n",
    "```\n",
    "AIC = -2 {(最大対数尤度) - 最尤推定したパラメータ数) }\n",
    "    = -2 ( logL* -K )\n",
    "    = D +2k\n",
    "```\n",
    "\n",
    "AICの値が一番小さいモデルが良いモデル\n",
    "\n"
   ]
  },
  {
   "cell_type": "markdown",
   "metadata": {
    "slideshow": {
     "slide_type": "subslide"
    }
   },
   "source": [
    "# 統計モデルのAIC計算結果\n",
    "モデル名  |  最大対数尤度 |k| 逸脱度 | 残差逸脱度 | AIC\n",
    "---- | ---- | ---- | ----| ----| ----\n",
    " NULLモデル(一定モデル）  | -237.6432  | 1 | 475.2864 | 89.5 | \n",
    " xモデル  |  -235.3863| 2 |  470.7725 |  89.51 |\n",
    " fモデル  |  -237.6273 | 2 | 475.2546 | 85.0|\n",
    " x+fモデル  | -235.2937 | 3 | 470.5874 | 84.8|\n",
    "  フルモデル  | -192.2  | 50 | 384.4 |  0|\n",
    "  \n",
    "### パラメータ数を増やせば残差逸脱度はさがる\n",
    "#### パラメータ数をふやすと　*当てはまりが良くなる*"
   ]
  },
  {
   "cell_type": "markdown",
   "metadata": {
    "slideshow": {
     "slide_type": "slide"
    }
   },
   "source": [
    "# 4.4 AICを説明するための別の説明\n",
    "## ネストしている関係のモデルとは\n",
    "### 結論: ネストしている関係のモデルの場合にAICの精度が良い\n",
    "\n",
    "#### ネストした関係のモデル\n",
    "```\n",
    "logλi = β1 ・・・一定モデル(K=1)\n",
    "logλi = β1 +  β2 * xi ・・・x モデル(K=2)\n",
    "```\n",
    "+ x モデルのβ2を0とすると一定モデルとおなじ。\n",
    "    + このような関係のモデルはネストしている関係のモデルという　"
   ]
  },
  {
   "cell_type": "markdown",
   "metadata": {
    "slideshow": {
     "slide_type": "slide"
    }
   },
   "source": [
    "# 4.5 なぜAICでモデル選択をして良いのか\n",
    "## 4.5.1 統計モデルの予測の良さ\n",
    "## 4.5.2 最大対数尤度のバイアス補正\n",
    "## 4.5.3 ネストしているGLM間のAIC比較"
   ]
  },
  {
   "cell_type": "markdown",
   "metadata": {
    "slideshow": {
     "slide_type": "subslide"
    }
   },
   "source": [
    "# 4.5.1 統計モデルの予測の良さ\n",
    "# 平均対数尤度とは\n",
    "+ 統計モデルに対して構築時と同じデータ取得方法で異なるデータセットを複数回あてはめた時の最大対数尤度の平均\n",
    "    + 統計モデルの予測の良さを表す量"
   ]
  },
  {
   "cell_type": "markdown",
   "metadata": {
    "slideshow": {
     "slide_type": "subslide"
    }
   },
   "source": [
    "# データ解析の目的\n",
    "+ 観測される現象の背後のある「しくみ」の特定\n",
    "+ 観測される現象の背後のある「しくみ」を近似的に代替しうる統計モデルの構築\n",
    "###  観測される現象の背後のある「しくみ」に近いか =「予測の良さ」\n",
    "###  サンプルデータを説明できる = 「当てはまりの良さ」"
   ]
  },
  {
   "cell_type": "markdown",
   "metadata": {
    "slideshow": {
     "slide_type": "subslide"
    }
   },
   "source": [
    "# 予測の良さとは\n",
    "+ 同じデータ取得方法で異なるデータを得たとき、統計モデルはどれくらい正確に言い当てれるか\n",
    "\n",
    "# 平均対数尤度とは\n",
    "+ 同じデータ取得方法で異なるデータセットを複数回あてはめた時の最大対数尤度の平均"
   ]
  },
  {
   "cell_type": "markdown",
   "metadata": {
    "slideshow": {
     "slide_type": "subslide"
    }
   },
   "source": [
    "# 例題 平均対数尤度の説明\n",
    "## 1. パラメータ推定用データを作成する\n",
    "### 真のモデル(β1=2.08=log(8))から50個の観測データを作る。\n",
    "## 2. 一定モデルのパラメータを推定する\n",
    "### 50個の観測データで最尤推定し一定モデルのパラメータを推定する\n",
    "+ 50個の観測データから推定された一定モデルのβ1が2.04とする\n",
    "``` \n",
    "logλi = β1 ・・・一定モデル\n",
    "真のβ1=2.08\n",
    "50個データを作ったときはβ1=2.04\n",
    "最大対数尤度 LogL* = -120.6\n",
    "```\n",
    "![パラメータ推定用データを作成する](https://c4.staticflickr.com/6/5347/29289951403_5a5e518f0e.jpg \"パラメータ推定用データを作成する\")"
   ]
  },
  {
   "cell_type": "markdown",
   "metadata": {
    "slideshow": {
     "slide_type": "subslide"
    }
   },
   "source": [
    "# 例題 平均対数尤度の説明\n",
    "## 3. 予測用データを作成する\n",
    "### 真のモデル(β1=2.08=log(8))から50個の観測データから予測データセットを200個作成する\n",
    "![真のモデル(β1=2.08)から50個データを作る。一定モデルのβ1が2.04となったとする ](https://c6.staticflickr.com/9/8053/29914071845_cafb83f916_b.jpg \"真のモデル(β1=2.08)から50個データを作る。一定モデルのβ1が2.04となったとする\")\n",
    "\n"
   ]
  },
  {
   "cell_type": "markdown",
   "metadata": {
    "slideshow": {
     "slide_type": "subslide"
    }
   },
   "source": [
    "# 例題 平均対数尤度の説明\n",
    "## 4. 一定モデル(β1=2.04)で200個の予測データセットごとに最大対数尤度を求める\n",
    "## 5. 200個の予測データセットごとの最大対数尤度から平均対数尤度を求める\n",
    "### 200回最大対数尤度の平均が平均対数尤度\n",
    "```\n",
    "平均対数尤度 E(logL) = -122.9\n",
    "```\n",
    "![真のモデル(β1=2.08)から50個データを作る。一定モデルのβ1が2.04となったとする ](https://c6.staticflickr.com/9/8053/29914071845_cafb83f916_b.jpg \"真のモデル(β1=2.08)から50個データを作る。一定モデルのβ1が2.04となったとする\")\n",
    "\n"
   ]
  },
  {
   "cell_type": "markdown",
   "metadata": {
    "slideshow": {
     "slide_type": "slide"
    }
   },
   "source": [
    "# 4.5.2 最大対数尤度のバイアス補正\n",
    "## 最大対数尤度と平均対数尤度の関係1\n",
    "例題の最大対数尤度と平均対数尤度の関係\n",
    "+ パラメータ推定用データの最大対数尤度 LogL* = -120.06\n",
    "+ 予測したときの　平均対数尤度 E(logL) = -122.9\n",
    "### 一定モデルの最大対数尤度が予測の平均対数尤度 よりたかい\n",
    "#### 例題のパラメータはあてはまりの良さが過大評価されている\n",
    "![パラメータ推定用データを作成する](https://c6.staticflickr.com/9/8120/29290473053_ac3c48aeb4.jpg \"パラメータ推定用データを作成する\")\n",
    "※　パラメータ推定用データの最大対数尤度が平均対数尤度 を常に高くなるわけではない"
   ]
  },
  {
   "cell_type": "markdown",
   "metadata": {
    "slideshow": {
     "slide_type": "subslide"
    }
   },
   "source": [
    "# 4.5.2 最大対数尤度のバイアス補正\n",
    "## 最大対数尤度と平均対数尤度の関係2\n",
    "```\n",
    "バイアス(b) = logL* -E(logL)\n",
    "例題のバイアス(b) = -120.06 - -122.9 = 1.84\n",
    "```\n",
    "### １２回繰り返しを比較する\n",
    "![最大対数尤度と平均対数尤度の計算を１２回](https://c7.staticflickr.com/9/8212/29623434590_7c0037d080.jpg \"最大対数尤度と平均対数尤度の計算を１２回\")"
   ]
  },
  {
   "cell_type": "markdown",
   "metadata": {
    "slideshow": {
     "slide_type": "subslide"
    }
   },
   "source": [
    "# 4.5.2 最大対数尤度のバイアス補正\n",
    "### 200回繰り返しを比較する\n",
    "![最大対数尤度と平均対数尤度の計算を１２回](https://c3.staticflickr.com/9/8513/29623750090_03294eeb1b.jpg \"最大対数尤度と平均対数尤度の計算を１２回\")\n",
    "例題のバイアスの標本平均は1.01"
   ]
  },
  {
   "cell_type": "markdown",
   "metadata": {
    "slideshow": {
     "slide_type": "subslide"
    }
   },
   "source": [
    "# 4.5.2 最大対数尤度のバイアス補正\n",
    "## 平均対数尤度E(logL)より、最大対数尤度logL*のほうが平均的に１ぐらい大きい"
   ]
  },
  {
   "cell_type": "markdown",
   "metadata": {
    "slideshow": {
     "slide_type": "subslide"
    }
   },
   "source": [
    "# 4.5.2 最大対数尤度のバイアス補正\n",
    "## 今回の例題の最大対数尤度と平均対数尤度の関係\n",
    "最大対数尤度から平均対数尤度の推定値を求めるには、バイアスをひけばよい\n",
    "```\n",
    "E(logL) = logL* -b\n",
    "bを1とすると\n",
    "E(logL) = logL* -1\n",
    "```\n",
    "## 数理統計学における最大対数尤度と平均対数尤度の関係\n",
    "```\n",
    "E(logL) = logL* -k(パラメータ数)\n",
    "```"
   ]
  },
  {
   "cell_type": "markdown",
   "metadata": {
    "slideshow": {
     "slide_type": "slide"
    }
   },
   "source": [
    "# 4.5.3 ネストしているGLM間のAIC比較\n",
    "## 4.5.2でバイアス補正量(b)は1としたが、バラツキが多いのでは？\n",
    "### ネストしている場合は、バラツキが小さくなる"
   ]
  },
  {
   "cell_type": "markdown",
   "metadata": {
    "slideshow": {
     "slide_type": "subslide"
    }
   },
   "source": [
    "# 4.5.3 ネストしているGLM間のAIC比較\n",
    "#### ネストした関係のモデルの比較\n",
    "```\n",
    "logλi = β1 ・・・一定モデル(k=1)\n",
    "logλi = β1 +  β2 * xi ・・・x モデル(k=2)\n",
    "```\n",
    "### 一定モデルとx モデルを比較する\n",
    "####  一定モデルとx モデルと最大対数尤度の比較\n",
    "```\n",
    "xモデルのlogL* - 一定モデルのlogL* \n",
    "```\n",
    "####  一定モデルとx モデルと平均対数尤度の比較\n",
    "```\n",
    "xモデルのE(logL) - 一定モデルのE(logL) \n",
    "```\n"
   ]
  },
  {
   "cell_type": "markdown",
   "metadata": {
    "slideshow": {
     "slide_type": "subslide"
    }
   },
   "source": [
    "# 4.5.3 ネストしているGLM間のAIC比較\n",
    "![ネストしている場合は、バラツキが小さくなる](https://c5.staticflickr.com/6/5697/29883862476_38ec805f34.jpg \"ネストしている場合は、バラツキが小さくなる\")\n",
    "## 一定パラメータに一つ加えたモデルの概念的なまとめ\n",
    "+ あてはまりのよさである最大対数尤度 log L*は0.5ぐらい増える\n",
    "+ 予測能力である平均対数尤度E(log L)は0.5ぐらい減少する\n",
    "# 　　　　　　⇩\n",
    "## logL* の平均バイアスは1増加する"
   ]
  },
  {
   "cell_type": "markdown",
   "metadata": {
    "collapsed": true,
    "slideshow": {
     "slide_type": "slide"
    }
   },
   "source": [
    "# 4.6 まとめ\n",
    "- モデルを選択する方法\n",
    "-- 良いモデルとは？\n",
    "-- 予測が良いものが良いモデルとしたい\n",
    "- AICの使い方を理解する\n",
    "-- \n",
    "- AICが正しい理由\n",
    "--追加したパラメータが最大対数尤度の統計的な変化量より大きいかで判断"
   ]
  },
  {
   "cell_type": "markdown",
   "metadata": {
    "slideshow": {
     "slide_type": "slide"
    }
   },
   "source": [
    "# 参考資料\n",
    "第４章を理解するために読んだ資料\n",
    " - http://statistics.co.jp/reference/Toukeidatakaiseki_Nyumon/datakaiseki_nyumon10.pdf\n",
    " http://www.it.mgmt.waseda.ac.jp/mi-tech/activity/data1/SelectionOfaStatisticalModel.pdf"
   ]
  }
 ],
 "metadata": {
  "celltoolbar": "Slideshow",
  "kernelspec": {
   "display_name": "Python 2",
   "language": "python",
   "name": "python2"
  },
  "language_info": {
   "codemirror_mode": {
    "name": "ipython",
    "version": 2
   },
   "file_extension": ".py",
   "mimetype": "text/x-python",
   "name": "python",
   "nbconvert_exporter": "python",
   "pygments_lexer": "ipython2",
   "version": "2.7.11"
  }
 },
 "nbformat": 4,
 "nbformat_minor": 0
}
